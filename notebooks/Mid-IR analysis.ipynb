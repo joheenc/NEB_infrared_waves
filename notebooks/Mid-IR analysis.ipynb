{
 "cells": [
  {
   "cell_type": "code",
   "execution_count": 43,
   "metadata": {},
   "outputs": [
    {
     "data": {
      "text/html": [
       "<div>\n",
       "<style scoped>\n",
       "    .dataframe tbody tr th:only-of-type {\n",
       "        vertical-align: middle;\n",
       "    }\n",
       "\n",
       "    .dataframe tbody tr th {\n",
       "        vertical-align: top;\n",
       "    }\n",
       "\n",
       "    .dataframe thead th {\n",
       "        text-align: right;\n",
       "    }\n",
       "</style>\n",
       "<table border=\"1\" class=\"dataframe\">\n",
       "  <thead>\n",
       "    <tr style=\"text-align: right;\">\n",
       "      <th></th>\n",
       "      <th>obsid</th>\n",
       "      <th>lonstart</th>\n",
       "      <th>lonend</th>\n",
       "      <th>wavenum</th>\n",
       "      <th>wavepower</th>\n",
       "      <th>fap</th>\n",
       "      <th>date</th>\n",
       "    </tr>\n",
       "  </thead>\n",
       "  <tbody>\n",
       "    <tr>\n",
       "      <th>0</th>\n",
       "      <td>jcf109114</td>\n",
       "      <td>165</td>\n",
       "      <td>526</td>\n",
       "      <td>[0.19944598337950137 0.5983379501385041 0.997...</td>\n",
       "      <td>[1.307830603848671 1.3049610462582806 0.83438...</td>\n",
       "      <td>[1.2173077430578142e-130 4.298050606805272e-1...</td>\n",
       "      <td>10-Jun-30</td>\n",
       "    </tr>\n",
       "    <tr>\n",
       "      <th>1</th>\n",
       "      <td>jcf160163</td>\n",
       "      <td>273</td>\n",
       "      <td>634</td>\n",
       "      <td>[0.19944598337950137 0.5983379501385041 0.997...</td>\n",
       "      <td>[1.1858588288549752 1.1816035277429195 0.7522...</td>\n",
       "      <td>[6.884989086738569e-102 1.1602730125598648e-9...</td>\n",
       "      <td>10-Jun-30</td>\n",
       "    </tr>\n",
       "    <tr>\n",
       "      <th>2</th>\n",
       "      <td>jcf165170</td>\n",
       "      <td>352</td>\n",
       "      <td>714</td>\n",
       "      <td>[0.19889502762430938 0.5966850828729282 0.994...</td>\n",
       "      <td>[1.1292666376104075 1.1248140153542978 0.7128...</td>\n",
       "      <td>[1.4786247481907018e-91 1.5015234034507998e-8...</td>\n",
       "      <td>10-Jun-30</td>\n",
       "    </tr>\n",
       "    <tr>\n",
       "      <th>3</th>\n",
       "      <td>jcf109114</td>\n",
       "      <td>165</td>\n",
       "      <td>526</td>\n",
       "      <td>[0.19944598337950137 0.5983379501385041 0.997...</td>\n",
       "      <td>[1.307830603848671 1.3049610462582806 0.83438...</td>\n",
       "      <td>[1.2173077430578142e-130 4.298050606805272e-1...</td>\n",
       "      <td>10-Jun-30</td>\n",
       "    </tr>\n",
       "    <tr>\n",
       "      <th>4</th>\n",
       "      <td>jcf160163</td>\n",
       "      <td>273</td>\n",
       "      <td>634</td>\n",
       "      <td>[0.19944598337950137 0.5983379501385041 0.997...</td>\n",
       "      <td>[1.1858588288549752 1.1816035277429195 0.7522...</td>\n",
       "      <td>[6.884989086738569e-102 1.1602730125598648e-9...</td>\n",
       "      <td>10-Jun-30</td>\n",
       "    </tr>\n",
       "    <tr>\n",
       "      <th>...</th>\n",
       "      <td>...</td>\n",
       "      <td>...</td>\n",
       "      <td>...</td>\n",
       "      <td>...</td>\n",
       "      <td>...</td>\n",
       "      <td>...</td>\n",
       "      <td>...</td>\n",
       "    </tr>\n",
       "    <tr>\n",
       "      <th>205</th>\n",
       "      <td>jcf010015</td>\n",
       "      <td>21</td>\n",
       "      <td>380</td>\n",
       "      <td>[0.20055710306406685 0.6016713091922006 1.002...</td>\n",
       "      <td>[1.2597770744964425 1.251078774320218 0.80951...</td>\n",
       "      <td>[4.8442596067622945e-119 3.544009568702164e-1...</td>\n",
       "      <td>9-Aug-27</td>\n",
       "    </tr>\n",
       "    <tr>\n",
       "      <th>206</th>\n",
       "      <td>jcf117122</td>\n",
       "      <td>116</td>\n",
       "      <td>478</td>\n",
       "      <td>[0.19889502762430938 0.5966850828729282 0.994...</td>\n",
       "      <td>[1.4114053229784103 1.4075332137935255 0.9022...</td>\n",
       "      <td>[2.0783044156741194e-159 4.791828301158632e-1...</td>\n",
       "      <td>9-May-28</td>\n",
       "    </tr>\n",
       "    <tr>\n",
       "      <th>207</th>\n",
       "      <td>jcf117122</td>\n",
       "      <td>116</td>\n",
       "      <td>478</td>\n",
       "      <td>[0.19889502762430938 0.5966850828729282 0.994...</td>\n",
       "      <td>[1.4114053229784103 1.4075332137935255 0.9022...</td>\n",
       "      <td>[2.0783044156741194e-159 4.791828301158632e-1...</td>\n",
       "      <td>9-May-28</td>\n",
       "    </tr>\n",
       "    <tr>\n",
       "      <th>208</th>\n",
       "      <td>jcf057062</td>\n",
       "      <td>169</td>\n",
       "      <td>528</td>\n",
       "      <td>[0.20055710306406685 0.6016713091922006 1.002...</td>\n",
       "      <td>[1.2804033248881723 1.2797952984278034 0.8246...</td>\n",
       "      <td>[2.0781233147246965e-126 9.84377835606025e-12...</td>\n",
       "      <td>9-May-28</td>\n",
       "    </tr>\n",
       "    <tr>\n",
       "      <th>209</th>\n",
       "      <td>jcf063068</td>\n",
       "      <td>167</td>\n",
       "      <td>526</td>\n",
       "      <td>[0.20055710306406685 0.6016713091922006 1.002...</td>\n",
       "      <td>[1.4388369837583614 1.437181841049907 0.92547...</td>\n",
       "      <td>[5.538941375095441e-181 2.820923535797064e-17...</td>\n",
       "      <td>9-May-28</td>\n",
       "    </tr>\n",
       "  </tbody>\n",
       "</table>\n",
       "<p>210 rows × 7 columns</p>\n",
       "</div>"
      ],
      "text/plain": [
       "         obsid   lonstart   lonend  \\\n",
       "0    jcf109114        165      526   \n",
       "1    jcf160163        273      634   \n",
       "2    jcf165170        352      714   \n",
       "3    jcf109114        165      526   \n",
       "4    jcf160163        273      634   \n",
       "..         ...        ...      ...   \n",
       "205  jcf010015         21      380   \n",
       "206  jcf117122        116      478   \n",
       "207  jcf117122        116      478   \n",
       "208  jcf057062        169      528   \n",
       "209  jcf063068        167      526   \n",
       "\n",
       "                                               wavenum  \\\n",
       "0     [0.19944598337950137 0.5983379501385041 0.997...   \n",
       "1     [0.19944598337950137 0.5983379501385041 0.997...   \n",
       "2     [0.19889502762430938 0.5966850828729282 0.994...   \n",
       "3     [0.19944598337950137 0.5983379501385041 0.997...   \n",
       "4     [0.19944598337950137 0.5983379501385041 0.997...   \n",
       "..                                                 ...   \n",
       "205   [0.20055710306406685 0.6016713091922006 1.002...   \n",
       "206   [0.19889502762430938 0.5966850828729282 0.994...   \n",
       "207   [0.19889502762430938 0.5966850828729282 0.994...   \n",
       "208   [0.20055710306406685 0.6016713091922006 1.002...   \n",
       "209   [0.20055710306406685 0.6016713091922006 1.002...   \n",
       "\n",
       "                                             wavepower  \\\n",
       "0     [1.307830603848671 1.3049610462582806 0.83438...   \n",
       "1     [1.1858588288549752 1.1816035277429195 0.7522...   \n",
       "2     [1.1292666376104075 1.1248140153542978 0.7128...   \n",
       "3     [1.307830603848671 1.3049610462582806 0.83438...   \n",
       "4     [1.1858588288549752 1.1816035277429195 0.7522...   \n",
       "..                                                 ...   \n",
       "205   [1.2597770744964425 1.251078774320218 0.80951...   \n",
       "206   [1.4114053229784103 1.4075332137935255 0.9022...   \n",
       "207   [1.4114053229784103 1.4075332137935255 0.9022...   \n",
       "208   [1.2804033248881723 1.2797952984278034 0.8246...   \n",
       "209   [1.4388369837583614 1.437181841049907 0.92547...   \n",
       "\n",
       "                                                   fap       date  \n",
       "0     [1.2173077430578142e-130 4.298050606805272e-1...  10-Jun-30  \n",
       "1     [6.884989086738569e-102 1.1602730125598648e-9...  10-Jun-30  \n",
       "2     [1.4786247481907018e-91 1.5015234034507998e-8...  10-Jun-30  \n",
       "3     [1.2173077430578142e-130 4.298050606805272e-1...  10-Jun-30  \n",
       "4     [6.884989086738569e-102 1.1602730125598648e-9...  10-Jun-30  \n",
       "..                                                 ...        ...  \n",
       "205   [4.8442596067622945e-119 3.544009568702164e-1...   9-Aug-27  \n",
       "206   [2.0783044156741194e-159 4.791828301158632e-1...   9-May-28  \n",
       "207   [2.0783044156741194e-159 4.791828301158632e-1...   9-May-28  \n",
       "208   [2.0781233147246965e-126 9.84377835606025e-12...   9-May-28  \n",
       "209   [5.538941375095441e-181 2.820923535797064e-17...   9-May-28  \n",
       "\n",
       "[210 rows x 7 columns]"
      ]
     },
     "execution_count": 43,
     "metadata": {},
     "output_type": "execute_result"
    }
   ],
   "source": [
    "import pandas as pd\n",
    "df = pd.read_csv('../datafiles/ls_midir.csv')\n",
    "df"
   ]
  },
  {
   "cell_type": "code",
   "execution_count": 46,
   "metadata": {},
   "outputs": [
    {
     "data": {
      "text/plain": [
       "<matplotlib.collections.PathCollection at 0x15468d78c48>"
      ]
     },
     "execution_count": 46,
     "metadata": {},
     "output_type": "execute_result"
    },
    {
     "data": {
      "image/png": "[encoded data removed]",
      "text/plain": [
       "<Figure size 432x288 with 1 Axes>"
      ]
     },
     "metadata": {
      "needs_background": "light"
     },
     "output_type": "display_data"
    }
   ],
   "source": [
    "import matplotlib.pyplot as plt\n",
    "import numpy as np\n",
    "from datetime import datetime\n",
    "wpowers = [float(powerlist.replace('[', '').strip(']').split(' ')[1]) for powerlist in df[' wavepower'].tolist()]\n",
    "normedwpowers = np.array(wpowers) / np.max(wpowers)\n",
    "plt.scatter([datetime.strptime(date.lower().zfill(9), '%y-%b-%d') for date in df['date'].tolist()], \n",
    "            normedwpowers)"
   ]
  },
  {
   "cell_type": "code",
   "execution_count": 47,
   "metadata": {},
   "outputs": [],
   "source": [
    "df['normedpeakwavepower'] = normedwpowers"
   ]
  },
  {
   "cell_type": "code",
   "execution_count": 50,
   "metadata": {},
   "outputs": [],
   "source": [
    "df.to_csv('../datafiles/ls_midir.csv')"
   ]
  },
  {
   "cell_type": "code",
   "execution_count": 32,
   "metadata": {
    "scrolled": true
   },
   "outputs": [
    {
     "data": {
      "text/plain": [
       "'/prvt/cirs12/comics/2011aug27/17.65/jupiter/archive/Cal_jcf05030511.cmap.gz\\n/prvt/cirs12/comics/2011aug27/17.65/jupiter/archive/Cal_jcf05030511.cmap.gz\\n/prvt/cirs12/comics/2011aug27/17.65/jupiter/archive/Cal_jcf517523.cmap.gz\\n/prvt/cirs12/comics/2011aug27/17.65/jupiter/archive/cal_jcf05030511.cmap.gz\\n/prvt/cirs12/comics/2011aug27/17.65/jupiter/archive/cal_jcf517523.cmap.gz\\n/prvt/cirs12/comics/2011aug27/17.65/jupiter/archive/finalCalcal_jcf05030511.cmap.gz\\n/prvt/cirs12/comics/2011aug27/17.65/jupiter/archive/finalCalcal_jcf517523.cmap.gz\\n/prvt/cirs12/comics/2011aug27/17.65/jupiter/archive/jcf009659009665_fixed.cmap.gz\\n/prvt/cirs12/comics/2011aug27/17.65/jupiter/archive/jcf009659009665_perfected.cmap.gz\\n/prvt/cirs12/comics/2011aug27/17.65/jupiter/archive/jcf05030511.cmap.gz\\n/prvt/cirs12/comics/2011aug27/17.65/jupiter/archive/jcf517523.cmap.gz\\n/prvt/cirs12/comics/2011aug27/17.65/jupiter/archive/reduc_2016/Cal_jc_505511.cmap.gz\\n/prvt/cirs12/comics/2011aug27/17.65/jupiter/archive/reduc_2016/Cal_jc_659673.cmap.gz\\n/prvt/cirs12/comics/2011aug27/17.65/jupiter/archive/reduc_2016/Cal_jcf_505511.cmap.gz\\n/prvt/cirs12/comics/2011aug27/17.65/jupiter/archive/reduc_2016/Cal_jcf_659673.cmap.gz\\n/prvt/cirs12/comics/2011aug27/17.65/jupiter/archive/reduc_2016/_NEW/cal_jcf_109505109511.cmap.gz\\n/prvt/cirs12/comics/2011aug27/17.65/jupiter/archive/reduc_2016/_NEW/cal_jcf_109659109661.cmap.gz\\n/prvt/cirs12/comics/2011aug27/17.65/jupiter/archive/reduc_2016/_NEW/cal_jcf_109671109673.cmap.gz\\n/prvt/cirs12/comics/2011aug27/17.65/jupiter/archive/reduc_2016/_NEW/jcf_109505109511.cmap.gz\\n/prvt/cirs12/comics/2011aug27/17.65/jupiter/archive/reduc_2016/_NEW/jcf_109659109661.cmap.gz\\n/prvt/cirs12/comics/2011aug27/17.65/jupiter/archive/reduc_2016/_NEW/jcf_109671109673.cmap.gz\\n/prvt/cirs12/comics/2011aug27/17.65/jupiter/archive/reduc_2016/cal_jc_505511.cmap.gz\\n/prvt/cirs12/comics/2011aug27/17.65/jupiter/archive/reduc_2016/cal_jc_659673.cmap.gz\\n/prvt/cirs12/comics/2011aug27/17.65/jupiter/archive/reduc_2016/cal_jcf_505511.cmap.gz\\n/prvt/cirs12/comics/2011aug27/17.65/jupiter/archive/reduc_2016/cal_jcf_659673.cmap.gz\\n/prvt/cirs12/comics/2011aug27/17.65/jupiter/archive/reduc_2016/jc_505511.cmap.gz\\n/prvt/cirs12/comics/2011aug27/17.65/jupiter/archive/reduc_2016/jc_659673.cmap.gz\\n/prvt/cirs12/comics/2011aug27/17.65/jupiter/archive/reduc_2016/jcf_505511.cmap.gz\\n/prvt/cirs12/comics/2011aug27/17.65/jupiter/archive/reduc_2016/jcf_659673.cmap.gz\\n/prvt/cirs12/comics/2011aug27/17.65/jupiter/cal_jcf_109505109511.cmap.gz\\n/prvt/cirs12/comics/2011aug27/17.65/jupiter/cal_jcf_109659109661.cmap.gz\\n/prvt/cirs12/comics/2011aug27/17.65/jupiter/cal_jcf_109671109673.cmap.gz\\n/prvt/cirs12/comics/2011aug27/17.65/jupiter/jc_505511.cmap.gz\\n/prvt/cirs12/comics/2011aug27/17.65/jupiter/jc_659673.cmap.gz\\n/prvt/cirs12/comics/2011aug27/17.65/jupiter/jcf_109505109511.cmap.gz\\n/prvt/cirs12/comics/2011aug27/17.65/jupiter/jcf_109659109661.cmap.gz\\n/prvt/cirs12/comics/2011aug27/17.65/jupiter/jcf_109671109673.cmap.gz\\n/prvt/cirs12/comics/2011aug27/17.65/jupiter/jcf_505511.cmap.gz\\n/prvt/cirs12/comics/2011aug27/17.65/jupiter/jcf_659673.cmap.gz'"
      ]
     },
     "execution_count": 32,
     "metadata": {},
     "output_type": "execute_result"
    }
   ],
   "source": [
    "#08/19/2020: creating obs groups for 2017 observations\n",
    "from datetime import datetime, timedelta\n",
    "midirtable = open('../misc/2017.txt', 'r')\n",
    "badstrs = ['junk', 'mu']\n",
    "goodstrs = ['jc', 'jf']\n",
    "dates = []\n",
    "fpaths = []\n",
    "for line in midirtable.readlines():\n",
    "    fpath = line.strip().split(' ')[0]\n",
    "    if fpath[:5] == '/prvt' and not True in [badstr in fpath.lower() for badstr in badstrs] and True in [goodstr in fpath.split('/')[-1].lower() for goodstr in goodstrs] and 'cmap' in fpath:\n",
    "        farr = fpath.split('/')\n",
    "        dates.append(datetime.strptime(farr[farr.index('comics')+1], '%Y%b%d'))\n",
    "        fpaths.append(fpath)\n",
    "            \n",
    "zipped = zip(dates, fpaths)\n",
    "zipped = sorted(zipped)\n",
    "filetxts = []\n",
    "fileds = []\n",
    "\n",
    "startdate = zipped[0][0]\n",
    "currtxt = zipped[0][1]\n",
    "for item in zipped:\n",
    "    if item[0] - startdate <= timedelta(days=2):\n",
    "        currtxt += '\\n' + item[1]\n",
    "    else:\n",
    "        filetxts.append(currtxt)\n",
    "        fileds.append(datetime.strftime(startdate, '%y%b%d'))\n",
    "        startdate = item[0]\n",
    "        currtxt = item[1]\n",
    "filetxts[0]"
   ]
  },
  {
   "cell_type": "code",
   "execution_count": 34,
   "metadata": {},
   "outputs": [],
   "source": [
    "for i in range(len(filetxts)):\n",
    "    outfile = open('midirfiles/2017/'+fileds[i]+'_17.65.txt', 'w')\n",
    "    outfile.write(filetxts[i])\n",
    "    outfile.close()"
   ]
  }
 ],
 "metadata": {
  "kernelspec": {
   "display_name": "Python 3",
   "language": "python",
   "name": "python3"
  },
  "language_info": {
   "codemirror_mode": {
    "name": "ipython",
    "version": 3
   },
   "file_extension": ".py",
   "mimetype": "text/x-python",
   "name": "python",
   "nbconvert_exporter": "python",
   "pygments_lexer": "ipython3",
   "version": "3.7.6"
  }
 },
 "nbformat": 4,
 "nbformat_minor": 4
}
