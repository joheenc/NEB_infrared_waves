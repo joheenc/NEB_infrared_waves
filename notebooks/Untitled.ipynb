{
 "cells": [
  {
   "cell_type": "code",
   "execution_count": 108,
   "metadata": {},
   "outputs": [],
   "source": [
    "from datetime import datetime\n",
    "file = open('../misc/osu\n",
    "            .txt', 'r')\n",
    "c = 0\n",
    "wavelengths = []\n",
    "dates = []\n",
    "fpaths = []\n",
    "for line in file.readlines():\n",
    "    if 'jup' in line and 'mu' not in line.lower() and 'test' not in line.lower() and 'cal' not in line.lower() and 'bad' not in line.lower() and 'flat' not in line.lower() and 'px' not in line.lower() and 'cmap' in line.lower() and ('jc' in line.lower() or 'jf' in line.lower()):\n",
    "        benash = line.split('/')\n",
    "        if '.' in benash[-1] and 'jupiter' in benash:\n",
    "            wavelength = benash[benash.index('jupiter')-1]\n",
    "            try:\n",
    "                dates.append(datetime.strptime(benash[benash.index('jupiter')-2].strip('b').strip('j').strip('_kb').strip('_orig'), '%Y%b%d'))\n",
    "                wavelengths.append(wavelength)\n",
    "                fpaths.append(line.strip('\\n'))\n",
    "            except:\n",
    "                try:\n",
    "                    dates.append(datetime.strptime(benash[benash.index('jupiter')-2], '%y%b%d'))\n",
    "                    wavelengths.append(wavelength)\n",
    "                    fpaths.append(line.strip('\\n'))\n",
    "                except:\n",
    "                    try:\n",
    "                        dates.append(datetime.strptime(benash[benash.index('jupiter')-3]+benash[benash.index('jupiter')-2], '%y%b%d'))\n",
    "                        wavelengths.append(wavelength)\n",
    "                        fpaths.append(line.strip('\\n'))\n",
    "                    except:\n",
    "                        print(line)"
   ]
  },
  {
   "cell_type": "code",
   "execution_count": 109,
   "metadata": {},
   "outputs": [
    {
     "data": {
      "text/plain": [
       "['/prvt/cirs11/mirac/1994jul14/17.20/jupiter/jc318326.cmap.gz\\n/prvt/cirs11/mirac/1994jul14/17.20/jupiter/jc318326.cmap.gz',\n",
       " '/prvt/cirs6/mirsi/2008jun16/17.20/jupiter/jc1723.cmap.gz\\n/prvt/cirs6/mirsi/2008jun16/17.20/jupiter/jcf015023.cmap.gz\\n/prvt/cirs6/mirsi/2008jun16/17.20/jupiter/jcf015023un.cmap.gz\\n/prvt/cirs6/mirsi/2008jun17/17.20/jupiter/jcf059064.cmap.gz\\n/prvt/cirs6/mirsi/2008jun17/17.20/jupiter/jcf059064un.cmap.gz\\n/prvt/cirs6/mirsi/2008jun17/17.20/jupiter/jcf117121.cmap.gz\\n/prvt/cirs6/mirsi/2008jun17/17.20/jupiter/jcf117121un.cmap.gz\\n/prvt/cirs6/mirsi/2008jun17/17.20/jupiter/jcf117121unbl.cmap.gz',\n",
       " '/prvt/cirs6/mirsi/2008jul10/17.20/jupiter/jcf012021.cmap.gz\\n/prvt/cirs6/mirsi/2008jul10/17.20/jupiter/jcf012021un.cmap.gz\\n/prvt/cirs6/mirsi/2008jul11/17.20/jupiter/jcf217222.cmap.gz\\n/prvt/cirs6/mirsi/2008jul11/17.20/jupiter/jcf217222un.cmap.gz\\n/prvt/cirs6/mirsi/2008jul11/17.20/jupiter/jcf217222unbl.cmap.gz',\n",
       " '/prvt/cirs6/mirsi/2008aug7/17.20/jupiter/jc00520151.gz.cmap.gz\\n/prvt/cirs6/mirsi/2008aug7/17.20/jupiter/jc54158.cmap.gz\\n/prvt/cirs6/mirsi/2008aug7/17.20/jupiter/jcf052058.cmap.gz\\n/prvt/cirs6/mirsi/2008aug7/17.20/jupiter/jcf052058un.cmap.gz\\n/prvt/cirs6/mirsi/2008aug7/17.20/jupiter/jcf145151.cmap.gz\\n/prvt/cirs6/mirsi/2008aug7/17.20/jupiter/jcf145151un.cmap.gz\\n/prvt/cirs6/mirsi/2008aug7/17.20/jupiter/jcf145151unbl.cmap.gz\\n/prvt/cirs6/mirsi/2008aug8/17.20/jupiter/jcf015021.cmap.gz\\n/prvt/cirs6/mirsi/2008aug8/17.20/jupiter/jcf015021un.cmap.gz\\n/prvt/cirs6/mirsi/2008aug8/17.20/jupiter/jcf015021unbl.cmap.gz',\n",
       " '/prvt/cirs6/mirsi/2008oct23/17.20/jupiter/jcf029035.cmap.gz\\n/prvt/cirs6/mirsi/2008oct23/17.20/jupiter/jcf029035un.cmap.gz\\n/prvt/cirs6/mirsi/2008oct23/17.20/jupiter/jcf029035unbl.cmap.gz\\n/prvt/cirs6/mirsi/2008oct23/17.20/jupiter/jcf118125.cmap.gz\\n/prvt/cirs6/mirsi/2008oct23/17.20/jupiter/jcf118125un.cmap.gz\\n/prvt/cirs6/mirsi/2008oct24/17.20/jupiter/jcf029035.cmap.gz\\n/prvt/cirs6/mirsi/2008oct24/17.20/jupiter/jcf029035un.cmap.gz\\n/prvt/cirs6/mirsi/2008oct24/17.20/jupiter/jcf029035unbl.cmap.gz\\n/prvt/cirs6/mirsi/2008oct24/17.20/jupiter/jcf119125un.cmap.gz\\n/prvt/cirs6/mirsi/2008oct24/17.20/jupiter/jcf119125unbl.cmap.gz',\n",
       " '/prvt/cirs6/mirsi/2009may28/17.20/jupiter/jcf057062.cmap.gz\\n/prvt/cirs6/mirsi/2009may28/17.20/jupiter/jcf117122.cmap.gz',\n",
       " '/prvt/cirs11/mirsi/2009jul20/17.20/jupiter/jc054059.cmap.gz',\n",
       " '/prvt/cirs11/mirsi/2009aug27/17.20/jupiter/jcf010015.cmap.gz',\n",
       " '/prvt/cirs11/mirsi/2010jun24/17.20/jupiter/jcf081086.cmap.gz\\n/prvt/cirs11/mirsi/2010jun24/17.20/jupiter/jcf099104.cmap.gz\\n/prvt/cirs11/mirsi/2010jun25/17.20/jupiter/jcf108113.cmap.gz',\n",
       " '/prvt/cirs11/mirsi/2010jun30/17.20/jupiter/jcf160163.cmap.gz\\n/prvt/cirs11/mirsi/2010jul1/17.20/jupiter/jcf109114.cmap.gz\\n/prvt/cirs11/mirsi/2010jul1/17.20/jupiter/jcf165170.cmap.gz',\n",
       " '/prvt/cirs11/mirsi/2010nov3/17.20/jupiter/jcf060065.cmap.gz\\n/prvt/cirs11/mirsi/2010nov5/17.20/jupiter/jcf036042.cmap.gz\\n/prvt/cirs11/mirsi/2010nov5/17.20/jupiter/jcf146151.cmap.gz',\n",
       " '/prvt/cirs11/mirsi/2010dec5/17.20/jupiter/jc046051.cmap.gz\\n/prvt/cirs11/mirsi/2010dec5/17.20/jupiter/jcf00680073.cmap.gz\\n/prvt/cirs11/mirsi/2010dec5/17.20/jupiter/jcf046051.cmap.gz\\n/prvt/cirs11/mirsi/2010dec5/17.20/jupiter/jcf068073.cmap.gz\\n/prvt/cirs11/mirsi/2010dec6/17.20/jupiter/jcf033038.cmap.gz',\n",
       " '/prvt/cirs11/mirsi/2011jul24b/17.20/jupiter/jcf030036.cmap.gz\\n/prvt/cirs11/mirsi/2011jul24b/17.20/jupiter/jcf135140.cmap.gz\\n/prvt/cirs11/mirsi/2011jul25/17.20/jupiter/jcf021027.cmap.gz\\n/prvt/cirs11/mirsi/2011jul26/17.20/jupiter/jcf066071.cmap.gz',\n",
       " '/prvt/cirs11/mirac/1994jul14/17.20/jupiter/jc318326.cmap.gz',\n",
       " '/prvt/cirs6/comics/08jun24/17.65/jupiter/archive/jcf00909190090951.cmap.gz\\n/prvt/cirs6/comics/08jun24/17.65/jupiter/archive/reduc_2016/jc_9077790781.cmap.gz\\n/prvt/cirs6/comics/08jun24/17.65/jupiter/archive/reduc_2016/jc_9092990953.cmap.gz\\n/prvt/cirs6/comics/08jun24/17.65/jupiter/archive/reduc_2016/jcf_9077790781.cmap.gz\\n/prvt/cirs6/comics/08jun24/17.65/jupiter/archive/reduc_2016/jcf_9092990953.cmap.gz\\n/prvt/cirs6/comics/08jun24/17.65/jupiter/jcf_9077790781.cmap.gz\\n/prvt/cirs6/comics/08jun24/17.65/jupiter/jcf_9092990951.cmap.gz\\n/prvt/cirs6/comics/08jun24/17.65/jupiter/jcf_9094190951.cmap.gz\\n/prvt/cirs6/comics/08jun25/17.65/jupiter/archive/jcf00912850091291.cmap.gz\\n/prvt/cirs6/comics/08jun25/17.65/jupiter/archive/jf_91285.fits.cmap.gz\\n/prvt/cirs6/comics/08jun25/17.65/jupiter/archive/jf_91287.fits.cmap.gz\\n/prvt/cirs6/comics/08jun25/17.65/jupiter/archive/jf_91289.fits.cmap.gz\\n/prvt/cirs6/comics/08jun25/17.65/jupiter/archive/jf_91291.fits.cmap.gz\\n/prvt/cirs6/comics/08jun25/17.65/jupiter/archive/jf_91505991515.fits.cmap.gz\\n/prvt/cirs6/comics/08jun25/17.65/jupiter/archive/jf_91507.fits.cmap.gz\\n/prvt/cirs6/comics/08jun25/17.65/jupiter/archive/jf_91509.fits.cmap.gz\\n/prvt/cirs6/comics/08jun25/17.65/jupiter/archive/reduc_2016/jc_9128591291.cmap.gz\\n/prvt/cirs6/comics/08jun25/17.65/jupiter/archive/reduc_2016/jcf_9128591291.cmap.gz\\n/prvt/cirs6/comics/08jun25/17.65/jupiter/jcf_9128591291.cmap.gz',\n",
       " '/prvt/cirs6/comics/08sep13/17.65/jupiter/archive/jcf00935390093591.cmap.gz\\n/prvt/cirs6/comics/08sep13/17.65/jupiter/archive/jf93583-93591.cmap.gz\\n/prvt/cirs6/comics/08sep13/17.65/jupiter/archive/jf93583.cmap.gz\\n/prvt/cirs6/comics/08sep13/17.65/jupiter/archive/jf93585.cmap.gz\\n/prvt/cirs6/comics/08sep13/17.65/jupiter/archive/jf93587.cmap.gz\\n/prvt/cirs6/comics/08sep13/17.65/jupiter/archive/jf93589.cmap.gz\\n/prvt/cirs6/comics/08sep13/17.65/jupiter/archive/jf93591.cmap.gz\\n/prvt/cirs6/comics/08sep13/17.65/jupiter/archive/reduc_2016/jc_9354193549.cmap.gz\\n/prvt/cirs6/comics/08sep13/17.65/jupiter/archive/reduc_2016/jc_9358593591.cmap.gz\\n/prvt/cirs6/comics/08sep13/17.65/jupiter/archive/reduc_2016/jcf_934193549.cmap.gz\\n/prvt/cirs6/comics/08sep13/17.65/jupiter/archive/reduc_2016/jcf_9358593591.cmap.gz\\n/prvt/cirs6/comics/08sep13/17.65/jupiter/jcf_9354193549.cmap.gz\\n/prvt/cirs6/comics/08sep13/17.65/jupiter/jcf_9358593591.cmap.gz\\n/prvt/cirs6/comics/08sep14/17.65/jupiter/archive/jc00937990093815.cmap.gz\\n/prvt/cirs6/comics/08sep14/17.65/jupiter/archive/jc00939810092983.cmap.gz\\n/prvt/cirs6/comics/08sep14/17.65/jupiter/archive/jcf00937990093815.cmap.gz\\n/prvt/cirs6/comics/08sep14/17.65/jupiter/archive/jcf00939810093983.cmap.gz\\n/prvt/cirs6/comics/08sep14/17.65/jupiter/archive/jf_93799-93801.fits.cmap.gz\\n/prvt/cirs6/comics/08sep14/17.65/jupiter/archive/jf_93805-93807.fits.cmap.gz\\n/prvt/cirs6/comics/08sep14/17.65/jupiter/archive/jf_93809-93811.fits.cmap.gz\\n/prvt/cirs6/comics/08sep14/17.65/jupiter/archive/jf_93813-93815.fits.cmap.gz\\n/prvt/cirs6/comics/08sep14/17.65/jupiter/archive/jf_93981-93983.fits.cmap.gz\\n/prvt/cirs6/comics/08sep14/17.65/jupiter/archive/reduc_2016/jc_9380193815.cmap.gz\\n/prvt/cirs6/comics/08sep14/17.65/jupiter/archive/reduc_2016/jcf_9380193815.cmap.gz\\n/prvt/cirs6/comics/08sep14/17.65/jupiter/jcf_9380193815.cmap.gz\\n/prvt/cirs6/comics/08sep15/17.65/jupiter/archive/2_jcf00940930094175.cmap.gz\\n/prvt/cirs6/comics/08sep15/17.65/jupiter/archive/jcf00940930094175.cmap.gz\\n/prvt/cirs6/comics/08sep15/17.65/jupiter/archive/jf_94093.fits.cmap.gz\\n/prvt/cirs6/comics/08sep15/17.65/jupiter/archive/jf_94095.fits.cmap.gz\\n/prvt/cirs6/comics/08sep15/17.65/jupiter/archive/jf_94097-94099.fits.cmap.gz\\n/prvt/cirs6/comics/08sep15/17.65/jupiter/archive/jf_94159-94163.fits.cmap.gz\\n/prvt/cirs6/comics/08sep15/17.65/jupiter/archive/jf_94165-94167.fits.cmap.gz\\n/prvt/cirs6/comics/08sep15/17.65/jupiter/archive/jf_94169-94171.fits.cmap.gz\\n/prvt/cirs6/comics/08sep15/17.65/jupiter/archive/jf_94173-94175.fits.cmap.gz\\n/prvt/cirs6/comics/08sep15/17.65/jupiter/archive/reduc_2016/jc_9416194175.cmap.gz\\n/prvt/cirs6/comics/08sep15/17.65/jupiter/archive/reduc_2016/jcf_9416194175.cmap.gz\\n/prvt/cirs6/comics/08sep15/17.65/jupiter/jcf_9416194175.cmap.gz',\n",
       " '/prvt/cirs11/visir/2009oct23/17.65/jupiter/jc0037_0039.cmap.gz',\n",
       " '/prvt/cirs11/visir/2010jun5/17.65/jupiter/jc0128_0961.cmap.gz',\n",
       " '/prvt/cirs11/visir/2010jul13/reduced/2010jul13/17.65/jupiter/jc1491.cmap.gz',\n",
       " '/prvt/cirs11/visir/2010nov13/17.65/jupiter/jc0155_0295.cmap.gz',\n",
       " '/prvt/cirs11/visir/2010dec1/17.65/jupiter/jc02070209.cmap.gz',\n",
       " '/prvt/cirs11/visir/2011jan16/17.65/jupiter/jc1977_3593.cmap.gz',\n",
       " '/prvt/cirs11/visir/2011jan27/17.65/jupiter/jc2077_6343.cmap.gz',\n",
       " '/prvt/cirs11/mirac/1994jul14/17.20/jupiter/jc318326.cmap.gz',\n",
       " '/prvt/cirs6/mirsi/2008jun16/17.90/jupiter/jc024029.cmap.gz\\n/prvt/cirs6/mirsi/2008jun16/17.90/jupiter/jcf024029.cmap.gz\\n/prvt/cirs6/mirsi/2008jun16/17.90/jupiter/jcf024029un.cmap.gz\\n/prvt/cirs6/mirsi/2008jun17/17.90/jupiter/jcf065070.cmap.gz\\n/prvt/cirs6/mirsi/2008jun17/17.90/jupiter/jcf065070un.cmap.gz\\n/prvt/cirs6/mirsi/2008jun17/17.90/jupiter/jcf065070unbl.cmap.gz\\n/prvt/cirs6/mirsi/2008jun17/17.90/jupiter/jcf123128.cmap.gz\\n/prvt/cirs6/mirsi/2008jun17/17.90/jupiter/jcf123128un.cmap.gz\\n/prvt/cirs6/mirsi/2008jun17/17.90/jupiter/jcf123128unbl.cmap.gz',\n",
       " '/prvt/cirs6/mirsi/2008jul10/17.90/jupiter/jcf022026.cmap.gz\\n/prvt/cirs6/mirsi/2008jul10/17.90/jupiter/jcf022026un.cmap.gz\\n/prvt/cirs6/mirsi/2008jul10/17.90/jupiter/jcf022026unbl.cmap.gz\\n/prvt/cirs6/mirsi/2008jul11/17.90/jupiter/jcf223228.cmap.gz\\n/prvt/cirs6/mirsi/2008jul11/17.90/jupiter/jcf223228un.cmap.gz\\n/prvt/cirs6/mirsi/2008jul11/17.90/jupiter/jcf223228unbl.cmap.gz',\n",
       " '/prvt/cirs6/mirsi/2008aug7/17.90/jupiter/jcf059064.cmap.gz\\n/prvt/cirs6/mirsi/2008aug7/17.90/jupiter/jcf059064un.cmap.gz\\n/prvt/cirs6/mirsi/2008aug7/17.90/jupiter/jcf152157.cmap.gz\\n/prvt/cirs6/mirsi/2008aug7/17.90/jupiter/jcf152157un.cmap.gz\\n/prvt/cirs6/mirsi/2008aug7/17.90/jupiter/jcf152157unbl.cmap.gz\\n/prvt/cirs6/mirsi/2008aug8/17.90/jupiter/jcf022027.cmap.gz\\n/prvt/cirs6/mirsi/2008aug8/17.90/jupiter/jcf022027un.cmap.gz\\n/prvt/cirs6/mirsi/2008aug8/17.90/jupiter/jcf022027unbl.cmap.gz',\n",
       " '/prvt/cirs6/mirsi/2008oct23/17.90/jupiter/jcf036041.cmap.gz\\n/prvt/cirs6/mirsi/2008oct23/17.90/jupiter/jcf036041un.cmap.gz\\n/prvt/cirs6/mirsi/2008oct23/17.90/jupiter/jcf036041unbl.cmap.gz\\n/prvt/cirs6/mirsi/2008oct23/17.90/jupiter/jcf126134un.cmap.gz\\n/prvt/cirs6/mirsi/2008oct24/17.90/jupiter/jcf036041.cmap.gz\\n/prvt/cirs6/mirsi/2008oct24/17.90/jupiter/jcf036041un.cmap.gz\\n/prvt/cirs6/mirsi/2008oct24/17.90/jupiter/jcf036041unbl.cmap.gz\\n/prvt/cirs6/mirsi/2008oct24/17.90/jupiter/jcf126135.cmap.gz\\n/prvt/cirs6/mirsi/2008oct24/17.90/jupiter/jcf126135un.cmap.gz',\n",
       " '/prvt/cirs6/mirsi/2009may28/17.90/jupiter/jcf063068.cmap.gz\\n/prvt/cirs6/mirsi/2009may28/17.90/jupiter/jcf123128.cmap.gz',\n",
       " '/prvt/cirs11/mirsi/2009aug25/17.90/jupiter/jcf00010203.cmap.gz\\n/prvt/cirs11/mirsi/2009aug27/17.90/jupiter/jcf016021.cmap.gz',\n",
       " '/prvt/cirs11/mirsi/2010jun24/17.90/jupiter/jcf087092.cmap.gz\\n/prvt/cirs11/mirsi/2010jun24/17.90/jupiter/jcf093098.cmap.gz\\n/prvt/cirs11/mirsi/2010jun25/17.90/jupiter/jcf103107.cmap.gz',\n",
       " '/prvt/cirs11/mirsi/2010jun30/17.90/jupiter/jcf117122.cmap.gz\\n/prvt/cirs11/mirsi/2010jun30/17.90/jupiter/jcf164169.cmap.gz\\n/prvt/cirs11/mirsi/2010jul1/17.90/jupiter/jcf115120.cmap.gz\\n/prvt/cirs11/mirsi/2010jul1/17.90/jupiter/jcf159164.cmap.gz',\n",
       " '/prvt/cirs11/mirsi/2010nov3/17.90/jupiter/jcf002013.cmap.gz\\n/prvt/cirs11/mirsi/2010nov3/17.90/jupiter/jcf032037.cmap.gz\\n/prvt/cirs11/mirsi/2010nov3/17.90/jupiter/jcf054059.cmap.gz\\n/prvt/cirs11/mirsi/2010nov3/17.90/jupiter/jcf159164.cmap.gz\\n/prvt/cirs11/mirsi/2010nov5/17.90/jupiter/jcf043050.cmap.gz\\n/prvt/cirs11/mirsi/2010nov5/17.90/jupiter/jcf152157.cmap.gz',\n",
       " '/prvt/cirs11/mirsi/2010dec5/17.90/jupiter/jcf052057.cmap.gz\\n/prvt/cirs11/mirsi/2010dec5/17.90/jupiter/jcf074079.cmap.gz\\n/prvt/cirs11/mirsi/2010dec6/17.90/jupiter/jcf039044.cmap.gz',\n",
       " '/prvt/cirs11/mirsi/2011jul24b/17.90/jupiter/jcf037042.cmap.gz\\n/prvt/cirs11/mirsi/2011jul24b/17.90/jupiter/jcf141146.cmap.gz\\n/prvt/cirs11/mirsi/2011jul25/17.90/jupiter/jcf028033.cmap.gz\\n/prvt/cirs11/mirsi/2011jul26/17.90/jupiter/jcf072077.cmap.gz']"
      ]
     },
     "execution_count": 109,
     "metadata": {},
     "output_type": "execute_result"
    }
   ],
   "source": [
    "from datetime import timedelta\n",
    "zipped = zip(dates, fpaths, wavelengths)\n",
    "zipped = sorted(zipped)\n",
    "filetxts = []\n",
    "filews = []\n",
    "fileds = []\n",
    "for w in np.arange(17.2, 18, 0.05):\n",
    "    startdate = zipped[0][0]\n",
    "    currtxt = zipped[0][1]\n",
    "    for item in zipped:\n",
    "        if float(item[2]) == round(w, 2):\n",
    "            if item[0] - startdate <= timedelta(days=2):\n",
    "                currtxt += '\\n' + item[1]\n",
    "            else:\n",
    "                filetxts.append(currtxt)\n",
    "                fileds.append(datetime.strftime(startdate, '%y%b%d'))\n",
    "                filews.append(item[2])\n",
    "                startdate = item[0]\n",
    "                currtxt = item[1]\n",
    "filetxts"
   ]
  },
  {
   "cell_type": "code",
   "execution_count": 110,
   "metadata": {},
   "outputs": [
    {
     "data": {
      "text/plain": [
       "35"
      ]
     },
     "execution_count": 110,
     "metadata": {},
     "output_type": "execute_result"
    }
   ],
   "source": [
    "len(filews)"
   ]
  },
  {
   "cell_type": "code",
   "execution_count": 113,
   "metadata": {},
   "outputs": [],
   "source": [
    "for i in range(len(filetxts)):\n",
    "    outfile = open('midirfiles/'+fileds[i]+'_'+filews[i]+'.txt', 'w')\n",
    "    outfile.write(filetxts[i])\n",
    "    outfile.close()"
   ]
  }
 ],
 "metadata": {
  "kernelspec": {
   "display_name": "Python 3",
   "language": "python",
   "name": "python3"
  },
  "language_info": {
   "codemirror_mode": {
    "name": "ipython",
    "version": 3
   },
   "file_extension": ".py",
   "mimetype": "text/x-python",
   "name": "python",
   "nbconvert_exporter": "python",
   "pygments_lexer": "ipython3",
   "version": "3.7.6"
  }
 },
 "nbformat": 4,
 "nbformat_minor": 4
}
